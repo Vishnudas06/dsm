{
 "cells": [
  {
   "cell_type": "code",
   "execution_count": 1,
   "id": "33e1658d",
   "metadata": {},
   "outputs": [
    {
     "ename": "SyntaxError",
     "evalue": "Missing parentheses in call to 'print'. Did you mean print(\"hello world\")? (Temp/ipykernel_10636/3923495743.py, line 1)",
     "output_type": "error",
     "traceback": [
      "\u001b[1;36m  File \u001b[1;32m\"C:\\Users\\MCA12\\AppData\\Local\\Temp/ipykernel_10636/3923495743.py\"\u001b[1;36m, line \u001b[1;32m1\u001b[0m\n\u001b[1;33m    print \"hello world\"\u001b[0m\n\u001b[1;37m          ^\u001b[0m\n\u001b[1;31mSyntaxError\u001b[0m\u001b[1;31m:\u001b[0m Missing parentheses in call to 'print'. Did you mean print(\"hello world\")?\n"
     ]
    }
   ],
   "source": [
    "print \"hello world\""
   ]
  },
  {
   "cell_type": "code",
   "execution_count": 2,
   "id": "94ecf83d",
   "metadata": {},
   "outputs": [
    {
     "name": "stdout",
     "output_type": "stream",
     "text": [
      "hello world\n"
     ]
    }
   ],
   "source": [
    "print(\"hello world\")\n"
   ]
  },
  {
   "cell_type": "code",
   "execution_count": 3,
   "id": "5c2bd401",
   "metadata": {},
   "outputs": [
    {
     "name": "stdout",
     "output_type": "stream",
     "text": [
      "15\n"
     ]
    }
   ],
   "source": [
    "a=10\n",
    "b=5\n",
    "c=a+b\n",
    "print(c)"
   ]
  },
  {
   "cell_type": "code",
   "execution_count": 5,
   "id": "3933465d",
   "metadata": {},
   "outputs": [
    {
     "ename": "NameError",
     "evalue": "name 'python' is not defined",
     "output_type": "error",
     "traceback": [
      "\u001b[1;31m---------------------------------------------------------------------------\u001b[0m",
      "\u001b[1;31mNameError\u001b[0m                                 Traceback (most recent call last)",
      "\u001b[1;32m~\\AppData\\Local\\Temp/ipykernel_10636/476184546.py\u001b[0m in \u001b[0;36m<module>\u001b[1;34m\u001b[0m\n\u001b[1;32m----> 1\u001b[1;33m \u001b[0mpython\u001b[0m\u001b[1;33m-\u001b[0m\u001b[1;33m-\u001b[0m\u001b[0mversion\u001b[0m\u001b[1;33m\u001b[0m\u001b[1;33m\u001b[0m\u001b[0m\n\u001b[0m",
      "\u001b[1;31mNameError\u001b[0m: name 'python' is not defined"
     ]
    }
   ],
   "source": [
    "python--version\n"
   ]
  },
  {
   "cell_type": "code",
   "execution_count": 6,
   "id": "0b98a2b5",
   "metadata": {},
   "outputs": [
    {
     "ename": "NameError",
     "evalue": "name 'python' is not defined",
     "output_type": "error",
     "traceback": [
      "\u001b[1;31m---------------------------------------------------------------------------\u001b[0m",
      "\u001b[1;31mNameError\u001b[0m                                 Traceback (most recent call last)",
      "\u001b[1;32m~\\AppData\\Local\\Temp/ipykernel_10636/3716174246.py\u001b[0m in \u001b[0;36m<module>\u001b[1;34m\u001b[0m\n\u001b[1;32m----> 1\u001b[1;33m \u001b[0mpython\u001b[0m\u001b[1;33m-\u001b[0m\u001b[1;33m-\u001b[0m\u001b[0mversion\u001b[0m\u001b[1;33m\u001b[0m\u001b[1;33m\u001b[0m\u001b[0m\n\u001b[0m",
      "\u001b[1;31mNameError\u001b[0m: name 'python' is not defined"
     ]
    }
   ],
   "source": [
    "python--version"
   ]
  },
  {
   "cell_type": "code",
   "execution_count": 7,
   "id": "6772031e",
   "metadata": {},
   "outputs": [
    {
     "name": "stdout",
     "output_type": "stream",
     "text": [
      "ENTER A NUMBER :10\n",
      "10\n"
     ]
    }
   ],
   "source": [
    "a=int(input(\"ENTER A NUMBER :\"))\n",
    "print(a)"
   ]
  },
  {
   "cell_type": "code",
   "execution_count": 8,
   "id": "fcf3350e",
   "metadata": {
    "scrolled": true
   },
   "outputs": [
    {
     "name": "stdout",
     "output_type": "stream",
     "text": [
      "pip 21.2.4 from C:\\ProgramData\\Anaconda3\\lib\\site-packages\\pip (python 3.9)\n",
      "\n"
     ]
    }
   ],
   "source": [
    "!pip --version"
   ]
  },
  {
   "cell_type": "markdown",
   "id": "f277077a",
   "metadata": {},
   "source": [
    "wrd"
   ]
  },
  {
   "cell_type": "code",
   "execution_count": 11,
   "id": "bb58fecf",
   "metadata": {},
   "outputs": [
    {
     "name": "stdout",
     "output_type": "stream",
     "text": [
      "Enter a String: 121\n",
      "Palindrome...\n"
     ]
    }
   ],
   "source": [
    "wrd = input('Enter a String: ')\n",
    "\n",
    "wrd = wrd.lower()\n",
    "\n",
    "if wrd == wrd[::-1]:\n",
    "    print('Palindrome...')\n",
    "else:\n",
    "        print(\"Not!\")"
   ]
  },
  {
   "cell_type": "code",
   "execution_count": 1,
   "id": "2f052ec2",
   "metadata": {},
   "outputs": [
    {
     "name": "stdout",
     "output_type": "stream",
     "text": [
      "Set1 after adding 6 {1, 2, 3, 4, 5, 6}\n",
      "Set1 after removing 2 {1, 3, 4, 5, 6}\n",
      "{1, 3, 4, 5, 6, 7, 8}\n",
      "{4, 5, 6}\n"
     ]
    }
   ],
   "source": [
    "set1={1,2,3,4,5}\n",
    "set2={4,5,6,7,8}\n",
    "set1.add(6)\n",
    "print(\"Set1 after adding 6\",set1)\n",
    "set1.remove(2)\n",
    "print(\"Set1 after removing 2\",set1)\n",
    "us=set1.union(set2)\n",
    "print(us)\n",
    "iis=set1.intersection(set2)\n",
    "print(iis)"
   ]
  },
  {
   "cell_type": "code",
   "execution_count": 10,
   "id": "8ba9796b",
   "metadata": {},
   "outputs": [
    {
     "name": "stdout",
     "output_type": "stream",
     "text": [
      "Dictionary elements and their type : {'Name': 'John', 'Age': 30, 'City': 'Delhi'}\n",
      "{'Name': 'John', 'Age': 30, 'City': 'Delhi', 'name': 'varun'}\n",
      "{'Name': 'John', 'Age': 30, 'City': 'Delhi', 'name': 'varun'}\n",
      "{'Name': 'John', 'City': 'Delhi', 'name': 'varun'}\n",
      "{'Name': 'John', 'City': 'Delhi', 'name': 'vishnu'}\n",
      "3\n"
     ]
    }
   ],
   "source": [
    "dict={\"Name\":\"John\",\"Age\": 30,\"City\":\"Delhi\"}\n",
    "print(\"Dictionary elements and their type :\",dict)\n",
    "type(dict)\n",
    "dict[\"name\"]=\"varun\"\n",
    "print(dict)\n",
    "dict[\"name\"]=\"varun\"\n",
    "print(dict)\n",
    "del dict[\"Age\"]\n",
    "print(dict)\n",
    "dict[\"name\"]=\"vishnu\"\n",
    "print(dict)\n",
    "print(len(dict))"
   ]
  },
  {
   "cell_type": "code",
   "execution_count": 24,
   "id": "6e592291",
   "metadata": {},
   "outputs": [
    {
     "name": "stdout",
     "output_type": "stream",
     "text": [
      "Tuple elements and their types: (1, 2, 3, 5, 7, 'Hello')\n",
      "(2, 3, 5, 7)\n",
      "6\n",
      "(1, 2, 3, 'devu', 5, 7, 'Hello', 9)\n"
     ]
    }
   ],
   "source": [
    "tup=(1,2,3,5,7,\"Hello\")\n",
    "print(\"Tuple elements and their types:\",tup)\n",
    "type(tup)\n",
    "print(tup[1:5])\n",
    "print(len(tup))\n",
    "ml=list(tup)\n",
    "ml.append(9)\n",
    "ml.insert(3,\"devu\")\n",
    "vm=tuple(ml)\n",
    "print(vm)\n",
    "\n"
   ]
  },
  {
   "cell_type": "code",
   "execution_count": null,
   "id": "fba56b7a",
   "metadata": {},
   "outputs": [],
   "source": []
  }
 ],
 "metadata": {
  "kernelspec": {
   "display_name": "Python 3 (ipykernel)",
   "language": "python",
   "name": "python3"
  },
  "language_info": {
   "codemirror_mode": {
    "name": "ipython",
    "version": 3
   },
   "file_extension": ".py",
   "mimetype": "text/x-python",
   "name": "python",
   "nbconvert_exporter": "python",
   "pygments_lexer": "ipython3",
   "version": "3.9.7"
  }
 },
 "nbformat": 4,
 "nbformat_minor": 5
}
